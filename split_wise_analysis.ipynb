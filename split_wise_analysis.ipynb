{
 "cells": [
  {
   "cell_type": "markdown",
   "metadata": {},
   "source": [
    "#### <font color='green'> By: Vardhaman R P\n",
    "\n",
    "   #### for dataset please visit https://github.com/vardhaman-datascience/splitwise-app-data-analysis  \n",
    "   #### please rate and comment if it is helpful to you\n"
   ]
  },
  {
   "cell_type": "code",
   "execution_count": null,
   "metadata": {},
   "outputs": [],
   "source": [
    "#export the splitwise groupdata as spreadsheet"
   ]
  },
  {
   "cell_type": "code",
   "execution_count": 187,
   "metadata": {},
   "outputs": [],
   "source": [
    "import pandas as pd\n",
    "import numpy as np\n",
    "import re\n",
    "import os\n",
    "from matplotlib import pyplot as plt\n",
    "import seaborn as sb"
   ]
  },
  {
   "cell_type": "code",
   "execution_count": 188,
   "metadata": {},
   "outputs": [],
   "source": [
    "data=pd.read_csv('E:/Data_Science/Datasets/split_wise.csv')"
   ]
  },
  {
   "cell_type": "code",
   "execution_count": 189,
   "metadata": {},
   "outputs": [],
   "source": [
    "data.columns=['Date','Description','Category','Cost','Currency','Pallavi','Arun','ShwetaJain','Rahul','Nikitha','Keerti','ambikapatil821','Shruthi.k','Megha','Vardhaman','Vanajakshi']"
   ]
  },
  {
   "cell_type": "code",
   "execution_count": 252,
   "metadata": {},
   "outputs": [
    {
     "data": {
      "text/html": [
       "<div>\n",
       "<style scoped>\n",
       "    .dataframe tbody tr th:only-of-type {\n",
       "        vertical-align: middle;\n",
       "    }\n",
       "\n",
       "    .dataframe tbody tr th {\n",
       "        vertical-align: top;\n",
       "    }\n",
       "\n",
       "    .dataframe thead th {\n",
       "        text-align: right;\n",
       "    }\n",
       "</style>\n",
       "<table border=\"1\" class=\"dataframe\">\n",
       "  <thead>\n",
       "    <tr style=\"text-align: right;\">\n",
       "      <th></th>\n",
       "      <th>Date</th>\n",
       "      <th>Description</th>\n",
       "      <th>Category</th>\n",
       "      <th>Cost</th>\n",
       "      <th>Currency</th>\n",
       "      <th>Pallavi</th>\n",
       "      <th>Arun</th>\n",
       "      <th>ShwetaJain</th>\n",
       "      <th>Rahul</th>\n",
       "      <th>Nikitha</th>\n",
       "      <th>Keerti</th>\n",
       "      <th>ambikapatil821</th>\n",
       "      <th>Shruthi.k</th>\n",
       "      <th>Megha</th>\n",
       "      <th>Vardhaman</th>\n",
       "      <th>Vanajakshi</th>\n",
       "    </tr>\n",
       "  </thead>\n",
       "  <tbody>\n",
       "    <tr>\n",
       "      <th>0</th>\n",
       "      <td>2017-05-15</td>\n",
       "      <td>1045</td>\n",
       "      <td>General</td>\n",
       "      <td>1045.0</td>\n",
       "      <td>INR</td>\n",
       "      <td>0.0</td>\n",
       "      <td>-348.33</td>\n",
       "      <td>0.0</td>\n",
       "      <td>696.66</td>\n",
       "      <td>0.0</td>\n",
       "      <td>0.0</td>\n",
       "      <td>0.0</td>\n",
       "      <td>0.0</td>\n",
       "      <td>0.0</td>\n",
       "      <td>-348.33</td>\n",
       "      <td>0.0</td>\n",
       "    </tr>\n",
       "    <tr>\n",
       "      <th>1</th>\n",
       "      <td>2017-05-15</td>\n",
       "      <td>212</td>\n",
       "      <td>General</td>\n",
       "      <td>212.0</td>\n",
       "      <td>INR</td>\n",
       "      <td>0.0</td>\n",
       "      <td>-212.00</td>\n",
       "      <td>0.0</td>\n",
       "      <td>0.00</td>\n",
       "      <td>0.0</td>\n",
       "      <td>0.0</td>\n",
       "      <td>0.0</td>\n",
       "      <td>0.0</td>\n",
       "      <td>0.0</td>\n",
       "      <td>212.00</td>\n",
       "      <td>0.0</td>\n",
       "    </tr>\n",
       "    <tr>\n",
       "      <th>2</th>\n",
       "      <td>2017-05-15</td>\n",
       "      <td>Ice cream</td>\n",
       "      <td>Groceries</td>\n",
       "      <td>170.0</td>\n",
       "      <td>INR</td>\n",
       "      <td>0.0</td>\n",
       "      <td>113.33</td>\n",
       "      <td>0.0</td>\n",
       "      <td>-56.67</td>\n",
       "      <td>0.0</td>\n",
       "      <td>0.0</td>\n",
       "      <td>0.0</td>\n",
       "      <td>0.0</td>\n",
       "      <td>0.0</td>\n",
       "      <td>-56.66</td>\n",
       "      <td>0.0</td>\n",
       "    </tr>\n",
       "    <tr>\n",
       "      <th>3</th>\n",
       "      <td>2017-05-15</td>\n",
       "      <td>Ananda rao</td>\n",
       "      <td>General</td>\n",
       "      <td>210.0</td>\n",
       "      <td>INR</td>\n",
       "      <td>0.0</td>\n",
       "      <td>140.00</td>\n",
       "      <td>0.0</td>\n",
       "      <td>-70.00</td>\n",
       "      <td>0.0</td>\n",
       "      <td>0.0</td>\n",
       "      <td>0.0</td>\n",
       "      <td>0.0</td>\n",
       "      <td>0.0</td>\n",
       "      <td>-70.00</td>\n",
       "      <td>0.0</td>\n",
       "    </tr>\n",
       "    <tr>\n",
       "      <th>4</th>\n",
       "      <td>2017-05-15</td>\n",
       "      <td>Book</td>\n",
       "      <td>General</td>\n",
       "      <td>600.0</td>\n",
       "      <td>INR</td>\n",
       "      <td>0.0</td>\n",
       "      <td>600.00</td>\n",
       "      <td>0.0</td>\n",
       "      <td>0.00</td>\n",
       "      <td>0.0</td>\n",
       "      <td>0.0</td>\n",
       "      <td>0.0</td>\n",
       "      <td>0.0</td>\n",
       "      <td>0.0</td>\n",
       "      <td>-600.00</td>\n",
       "      <td>0.0</td>\n",
       "    </tr>\n",
       "  </tbody>\n",
       "</table>\n",
       "</div>"
      ],
      "text/plain": [
       "         Date Description   Category    Cost Currency  Pallavi    Arun  \\\n",
       "0  2017-05-15        1045    General  1045.0      INR      0.0 -348.33   \n",
       "1  2017-05-15         212    General   212.0      INR      0.0 -212.00   \n",
       "2  2017-05-15   Ice cream  Groceries   170.0      INR      0.0  113.33   \n",
       "3  2017-05-15  Ananda rao    General   210.0      INR      0.0  140.00   \n",
       "4  2017-05-15        Book    General   600.0      INR      0.0  600.00   \n",
       "\n",
       "   ShwetaJain   Rahul  Nikitha  Keerti  ambikapatil821  Shruthi.k  Megha  \\\n",
       "0         0.0  696.66      0.0     0.0             0.0        0.0    0.0   \n",
       "1         0.0    0.00      0.0     0.0             0.0        0.0    0.0   \n",
       "2         0.0  -56.67      0.0     0.0             0.0        0.0    0.0   \n",
       "3         0.0  -70.00      0.0     0.0             0.0        0.0    0.0   \n",
       "4         0.0    0.00      0.0     0.0             0.0        0.0    0.0   \n",
       "\n",
       "   Vardhaman  Vanajakshi  \n",
       "0    -348.33         0.0  \n",
       "1     212.00         0.0  \n",
       "2     -56.66         0.0  \n",
       "3     -70.00         0.0  \n",
       "4    -600.00         0.0  "
      ]
     },
     "execution_count": 252,
     "metadata": {},
     "output_type": "execute_result"
    }
   ],
   "source": [
    "data.head()"
   ]
  },
  {
   "cell_type": "code",
   "execution_count": 190,
   "metadata": {},
   "outputs": [],
   "source": [
    "data=data[:-2]"
   ]
  },
  {
   "cell_type": "code",
   "execution_count": 230,
   "metadata": {},
   "outputs": [],
   "source": [
    "data['Cost']=data['Cost'].astype(float)"
   ]
  },
  {
   "cell_type": "code",
   "execution_count": 232,
   "metadata": {},
   "outputs": [
    {
     "name": "stdout",
     "output_type": "stream",
     "text": [
      "<class 'pandas.core.frame.DataFrame'>\n",
      "RangeIndex: 2457 entries, 0 to 2456\n",
      "Data columns (total 16 columns):\n",
      "Date              2457 non-null object\n",
      "Description       2457 non-null object\n",
      "Category          2457 non-null object\n",
      "Cost              2457 non-null float64\n",
      "Currency          2457 non-null object\n",
      "Pallavi           2457 non-null float64\n",
      "Arun              2457 non-null float64\n",
      "ShwetaJain        2457 non-null float64\n",
      "Rahul             2457 non-null float64\n",
      "Nikitha           2457 non-null float64\n",
      "Keerti            2457 non-null float64\n",
      "ambikapatil821    2457 non-null float64\n",
      "Shruthi.k         2457 non-null float64\n",
      "Megha             2457 non-null float64\n",
      "Vardhaman         2457 non-null float64\n",
      "Vanajakshi        2457 non-null float64\n",
      "dtypes: float64(12), object(4)\n",
      "memory usage: 307.2+ KB\n"
     ]
    }
   ],
   "source": [
    "data.info()"
   ]
  },
  {
   "cell_type": "code",
   "execution_count": 253,
   "metadata": {},
   "outputs": [
    {
     "data": {
      "text/plain": [
       "array(['1045', '212', 'Ice cream', 'Ananda rao', 'Book', '100', 'Ticket',\n",
       "       'Uta', 'Puffs', 'Breakfast', 'Roll', 'French fries', 'Soup',\n",
       "       'Maggie', 'Dinner', 'Ola', 'Budy roti ghar', 'KRAZY BEE',\n",
       "       'Extra tm', 'Perfume', 'Auto ', 'Max', 'Reliance', 'Rooftop',\n",
       "       'Auto', 'Puri', 'noodles & noodles ', 'Golagappa', 'Shopping',\n",
       "       'Jain paid Keerti P.', '127.17', 'Food point', 'T', 'Dress', '20',\n",
       "       'Utsav', 'Socks', 'Juice', 'Watch', 'Majjige', 'Jain paid Arun c.',\n",
       "       'Bhim', 'Barcelona fb T', 'RotiGhar', 'Bus', 'Jeans', '500',\n",
       "       'Ondu motteya kate', 'Spiderman snacks', 'Spidey tickets',\n",
       "       'Bhanashankri', 'Shenga', 'Shades', 'Beligge', 'Cab', 'Black Top',\n",
       "       'Finger ring ', 'Golgappa', 'Tiffin', 'Batte', 'M1 sandwiches',\n",
       "       'Nandi', 'Nandi amith nd u', 'Owes', 'Petrol + neer dose', 'Kd',\n",
       "       'Twist and momos', 'Cake', 'Account', 'Water can', 'Bus to clg',\n",
       "       'Monday idli', 'Bus ', 'Dmart', 'Recharge', 'Tea', 'Mop', 'Bulb',\n",
       "       'Vegetables', 'Bakery', 'Milk  and sugar', 'Nasta ', 'Bread',\n",
       "       'Grocery', 'Sugar cane juice', 'Bhajji', 'Dettol', 'Onion',\n",
       "       'Tiffan box and bread', 'Panipuri', '200', '120', 'K D', 'Cqsh',\n",
       "       'Milk', 'Fruits', 'Saturday milk', 'Oil', 'Salt', 'Thursday bf',\n",
       "       'Bus Thur Friday', 'Op Al and snacks', 'Pizza hut', 'Bus 17',\n",
       "       'Fri bf', 'Nasta', 'Milk ullagaddi', 'Dosa', 'Mirchi', 'Bottle',\n",
       "       'Coonverse shoe', 'Baby doll', 'Masala', 'Go karting', 'Tax ',\n",
       "       'Icecreme', 'Main lunch', 'Milk and sugar', 'Roller ice cream',\n",
       "       'Twister, girrmitt, cake, pav bhajji', 'Chats', 'Blore habba',\n",
       "       'Tiffan', '680-50(prasanna)=630', 'LUNCH', 'Film ', 'Cash', 'Curd',\n",
       "       'Bus ticket', 'Girrmitt & mirchiii', 'A4 sheets',\n",
       "       'Auto & breakft(30+90)', 'Tea ', 'Pallavi (. paid Varun', '70',\n",
       "       'Post', 'Pani puri', 'Udri', '579.26', 'Jain paid Pallavi (.',\n",
       "       'Adding inside group', 'Moving to group',\n",
       "       'Brkft, milk, watercan(125+25)', 'D-mart', 'Bus , panipuri',\n",
       "       'Box8', 'Utq', 'Red valvate', 'Railway station', 'Petrol',\n",
       "       'Petrol, vv towers', 'Lunch food point', 'Tickets', 'Night tea',\n",
       "       'Parking airport', 'Toll', 'Milk curd mente soppu', 'Car',\n",
       "       'Yesterday tomato', 'Bread and cucumber', 'Lunch', 'Shoes',\n",
       "       '30+40+50(mega)', 'Kachori', 'Bajji', 'Chapati', 'Banana', '9800',\n",
       "       'Owe', 'Water ', 'Mosambi', 'Ahar', 'Entry', 'Milk and dosa',\n",
       "       'Banana and onion', 'Water', 'Fingerchip', 'Lent', 'Odonil',\n",
       "       'Dinner+banana', 'Waterbill', 'Currency', 'Sevpuri', 'Cafe',\n",
       "       'Chips n curd', '40', 'Rcrg', 'Sugar', 'Breakfast and milk',\n",
       "       'Electricity bill', 'Dosa ', 'Net pack', 'Oota', 'Bhel', 'Guraka',\n",
       "       'Settle all balances', 'Tomato', 'Comb', 'Auto , chats', 'Dinnr',\n",
       "       'News pape', 'Keerti P. paid Pallavi (.',\n",
       "       'Keerti P. paid Shweta J.', 'Bal paid by keerti',\n",
       "       'Clip and bus ticket', 'Utaaaaaaaaa', 'Movie', '50', 'Xerox',\n",
       "       'Water can ', 'Zerox', 'Train', 'Metro', 'Parking',\n",
       "       'Petrol + snacks', 'Keerti', 'Extra kms', 'Cake + Chips', 'Tindi',\n",
       "       'Haalu + can', 'Chats ', 'Aux cable',\n",
       "       'Trip (3995)=3700(keerti)+295(vardhaman)', 'Ivatt', 'Abhi cake',\n",
       "       'Hair oil', 'Used Amazon pay balance for moto ',\n",
       "       'Harpic flash matic', 'Paid ', 'Trip and uta ', 'Doll',\n",
       "       '26+26 recharge', 'Tifin', 'Remaining 80', 'Brkft n juice',\n",
       "       'Girmittt', 'Bus charge petrol etc etc', 'Bajji and cha ',\n",
       "       'Cafe eleven', '135', 'Paddu', 'Onion tomato', 'Puri ',\n",
       "       'Trip and ticket', 'Hallu ujjuva dravya', 'Coke', 'Rava',\n",
       "       'Municipality lady', 'Masal puri', 'Shirt ',\n",
       "       'Dahi puri &masala puri ', \"Day before yestday's and snacks uta\",\n",
       "       'Iction ', 'Kurta', 'Prasanna kurta', 'Cutlet', 'Fine ',\n",
       "       'Cooling glass ', 'Books', 'Tez', 'Cha', 'Sapna', 'Gobi',\n",
       "       'Masalpuri', 'Props', 'Chilly', 'Mangalore bajji', 'Rolls',\n",
       "       'Mirchi baji', 'Scholarship Xerox', 'Metro card had 180+', 'Uta ',\n",
       "       'Friday dinner', 'Nasta+tablet', 'Jayanagar', 'Gaadi', 'Bf',\n",
       "       'Harpic', 'Yoga', 'Trip', 'Cash ', 'Max auto', 'Pooja', 'Uta 8/11',\n",
       "       'Beach', 'Beach bath', '26', 'potato twist',\n",
       "       'New paper n watercan', 'Stop nd joy', 'Nikki', 'Potato twist',\n",
       "       '300', 'Slv', 'Golapappa', 'Morning bf', 'Yesterday night',\n",
       "       'Toll gate', 'Back tolls', 'Cab  + petrol', 'Morning ahara', '235',\n",
       "       'Pasta', 'Dahi puri', 'Ola ', 'Kulli paid', 'Auto foodstreet',\n",
       "       'Uber', 'Samosa', 'Csh', 'Sambar', 'Morning', 'Food steet',\n",
       "       'Food street', 'Patato twist', 'Gadde', 'Twist', 'Kulfi',\n",
       "       'Noodles', 'Icecream', 'Lussi', 'Bath', 'Trip previous day uta',\n",
       "       'Diesel', 'Trip night uta', 'Trip morning tiffin', 'Seven star',\n",
       "       'Snacks', 'Orio', 'Tiffab', 'Onion and chilly ', 'Lota', 'Led',\n",
       "       'Cotton candy', '540', 'Grains', 'Kempi', 'Uta slv', 'Top ramen ',\n",
       "       'Pooja tez', 'tiffan ', 'Tiffan ', 'Veg puff', 'Vada paav',\n",
       "       'Expenses paid', 'GMornings!', 'Breakfast ', 'Chats + paddu',\n",
       "       '600', '1500', 'Ts', '280', 'Maggi+water can', 'Jacket',\n",
       "       'Sizzling brownie', 'Lime soda', 'Kr market', 'Gift shwetha',\n",
       "       'Frock', 'Legging', 'Poori + tea', 'Neer dosa', 'Masal Dosa ',\n",
       "       'BF', 'Vada pav', 'Neer dosa ver2.0', 'Gobi+goglegappa', 'Refill',\n",
       "       'Green tea', 'Auntie dose', 'Water Can ', 'Chat+ noodles',\n",
       "       'Tea+popcorn', 'Brake phast', 'Aaaloooo', 'Aalllooo', 'Sandwich',\n",
       "       'Med certificate', '130', 'Roposo', 'Vada', 'Taza tindi', '140',\n",
       "       'Twistato', 'Chaayi', 'Palya', 'Keb cab', 'Film', 'Ninne ratri',\n",
       "       'Benne dose', 'Varun paid Jain', 'Acid+odonil+naphthalene',\n",
       "       'Golgappq', 'Paneer', 'Roti', 'Nicecream', 'Bulluta',\n",
       "       'Atomatic recharge', 'Helmet', 'Phone', 'Can', 'Poori', 'Truffles',\n",
       "       'Trends', 'News paper', 'Cha+tornado', 'Udapi', 'Curd+milk',\n",
       "       'Bull', 'T+tornado', 'Pop corn', 'Coconut water', 'Vijaynagar',\n",
       "       'Earrings', 'Burger', 'Parota+bida', 'Lemon soda', 'Brown',\n",
       "       'Samosa+burger', '1000', 'Parota', 'Popcorn', 'Movie tickets',\n",
       "       'Chaa', 'Maggi', 'Dispenser+awalakki', '310', 'Pomogranate',\n",
       "       'Cab orion', 'Electricity bill ', 'Freshner+noodles', 'Abdul',\n",
       "       'Rice', 'Water Can', 'Flashmatic ', 'Benena', 'Happy journey',\n",
       "       'Pipe', 'Lalbagh', 'Haircut', 'Happy dating!', 'Uppit', 'Cabé',\n",
       "       'Twister', 'Purse', 'ambikapatil821 paid Jain',\n",
       "       'ambikapatil821 paid Arun c.', 'Ninne tindi', 'Remaining in 30k',\n",
       "       'Friendship EMI', 'Pav+milk', 'Sugar+masala', 'Mrd', 'Water melon',\n",
       "       'Rava+curd', 'Aichcreem', 'Burjer', 'Donut', 'Gave',\n",
       "       'Rice+vegetables', 'Haalu', 'Watermelon', 'Peal off ', 'Tornado',\n",
       "       'Paid', 'Shruthi. K. paid Vanajakshi', 'Pav+ bhel', 'Good life',\n",
       "       '.', 'Pasta + haalu', 'Tea powder', 'Potato', 'Maggi+oil',\n",
       "       'Dose+twist+tea', 'Scooter petrol', 'Morning tiffan',\n",
       "       'Tyre Change', 'Dosa+juice+Pani puri', 'Car rent', 'Kulli donut',\n",
       "       'That bamboo park wala(parking 30 and ticket80)', 'Kachori chat',\n",
       "       'Parking(40+30)', 'Baby paid', 'Kulli',\n",
       "       'Uta( fruit salad80+soup50)', 'Uta(Soft drink)', 'Uta(soup)',\n",
       "       'Uta (Onion salad,two saabjis )', 'Uta(Roti 11psc*30)',\n",
       "       'Parking(nisarga+ goldentemple+abbye)', 'Night tea ', 'Eve Tea',\n",
       "       'Tengin neer', 'Natka', 'Tea + cab', 'Maggi ', 'B+grapes',\n",
       "       'Orange', 'Pomo', 'Straberry', 'Ahar + bus', 'Water Can+sugar',\n",
       "       'Cab + lassi', 'Gas', 'Dhai puri', 'Bingo', 'Exo', 'Yelneer',\n",
       "       'Maggi +vegetables', 'Bfc tickets', 'Bhaji', 'Lays n cha',\n",
       "       'Water bill', 'Canteen', 'Blore byets ', 'Auto 109', 'Golagappq',\n",
       "       'Water+veggies', 'Bf and tea', 'Kunchagi', 'Elneer', 'Snakes',\n",
       "       'Chapathii', 'Ayur', 'Gol gappa', 'Sp rd', 'Sgwn drn',\n",
       "       'Paytm paid', 'Vijayanagar', 'Disel refund', 'Enne trip', 'Acid',\n",
       "       'Remaining 3k', 'Coconut pani', 'Sun screen', 'Dettol ', 'Hats',\n",
       "       'Aut0', 'Rent', 'Q tinnodu', 'Bike service', 'Hat ', 'Goli baje',\n",
       "       'Idli', 'Movie plus snacks', 'Sandwich burgers', 'Washroom',\n",
       "       'Harake', 'Film cab', 'Elneer + water bottle', 'Water melon ',\n",
       "       'Peri peri', 'Dove', 'Metro ', 'Juice + sothe kaayi',\n",
       "       'Book + lent', 'Lent ', 'Concert pass', 'Project compo',\n",
       "       'Auto +bus', 'Mango', 'Sugar cane', 'T shirts', 'Soute', 'Tripod',\n",
       "       'U', 'Donut+apple milk shake', 'Cake+lollypop+etc', 'Masala puri',\n",
       "       'Tripod lent', 'Pass', 'Basanna pass', 'Udupa', 'Uta + cab',\n",
       "       'Concert', 'Water bottle', 'Salt ', 'Curd ', 'Banana+rice',\n",
       "       'Morning tiffin', 'Tea+puri', 'Immediate', 'Duuse', 'Paratha',\n",
       "       'The ride', 'Daryag kottid', 'T and banana', 'Banana ',\n",
       "       'Tiffin + chats( 25 - 35 )', 'Match day cab', 'Water bottles',\n",
       "       'Wah wa Halwa', 'Happy ugadi', 'Tooth paste ', 'Banana+maggi',\n",
       "       'Vasant vihar', 'Yesterday auto', 'Foodiction', 'Patym', 'Parle ',\n",
       "       'Current bill', 'Marathon', 'Bfc shirts', 'Manchurian',\n",
       "       'Juicy nd spicy', 'Nikki paid', 'Dosa+ ice', 'Bowling', 'Cab bluo',\n",
       "       'Share', 'Veg roll + lime soda', 'Biscuits', 'Maddur cab',\n",
       "       'Prasanna bday auto', 'Petrol + bike rent', 'Soooda',\n",
       "       'Watermelon juice', 'Paraaaatha', 'Chai biskut', 'Vegiteria',\n",
       "       'Bilyoor', 'Chips', 'Gobi + masal puri', 'Pav bhaji', 'Juice ',\n",
       "       'Metro card', 'Rava+vegetables', 'Shravanabelagola', 'Baby book',\n",
       "       'Shravanabelagola cab', 'Cha powder', 'Paytm', 'Dose',\n",
       "       'Auto + bus', 'Cement work', 'Bbmp', 'Uppit+chips', 'Bull uta',\n",
       "       'Soap', 'Pami + coffee', 'Big byt', 'Golgappa+cucumber', 'Charts',\n",
       "       'Morning cab', 'Dwarka to lalbag auto', 'Lalbhag to home cab',\n",
       "       'Lalbhag to home lent', 'Dwarka', '290', 'Karchu', 'Prasanna book',\n",
       "       'Dosa +tea', 'Soda ', 'Market day cab', 'Lalbagh auto', 'Owes ',\n",
       "       'Banana + orange', 'Water melon juice+ice cream', 'Good day',\n",
       "       'Water melon juice ', 'Night uta', 'Soda', 'Anna milk', 'Biscuit ',\n",
       "       'Bajji+girmit', 'Water melon+butter fruit', 'Puff', 'Uta+ auto',\n",
       "       'Elneer + juice', 'Uta + chips', 'Bull oota', 'Goli bhaji',\n",
       "       'Milk n khari', 'Ice Cream', 'Oggarni anna', 'Sanjik cha',\n",
       "       'Chole bature + french fries', 'Nail polish', 'CCD', 'Paneer chat',\n",
       "       'Tale hannu', 'Panner chat', 'Chaa pudi', 'Gadbad + auto',\n",
       "       '106 +109+ 56 cab', 'Majjige ', 'Milk ', 'Fulka sabzi', 'Fevicol',\n",
       "       'Medical certificate Xerox+colour print', 'Tomato rice',\n",
       "       'Milk+parle', 'Milk+sugar', 'Lassi + majjige',\n",
       "       'Juice + french fries', 'Cab Jayanagar', 'Kulli lent',\n",
       "       'Juice + thale hannu', 'Auto + dosa', 'Entry fee',\n",
       "       'Bingo biscuits', 'Bridge tea', 'Bike rent', 'Project', 'Report',\n",
       "       'Tomato uttappa', 'Cab ', 'Baaki rokka',\n",
       "       'Maddur bike extra charge', 'Dose + elneer',\n",
       "       'Lent+ elneer + coffee + masalpuri', 'Parle', 'Noon Auto',\n",
       "       'Locker', 'Tt', 'Ahar utsav', 'Padda', 'Onion dosa', 'Paper',\n",
       "       'Gadbad', 'Katriguppe', 'Shweta gift', 'Parcel + beer',\n",
       "       'Auto on last paper', 'Ticket ', 'Regulator', 'Chakali',\n",
       "       'Bingo vegetables', 'Chakli', 'Dilip watch', 'Manchuri', 'Jamun',\n",
       "       'Majjgi', 'Wonder la', 'Baby', 'Strong lady', 'Biliyammaa',\n",
       "       'Jayanagar ticket', 'Clothes', 'Butter milk d lays', 'Rapido',\n",
       "       'Lunch ahar', 'Milk curd khari', 'Rotti', 'Vegetables curd',\n",
       "       'Moved from Gipp Gipp', 'From wonder la', 'Bike', 'Bus charge',\n",
       "       'Devi uphar', 'Milk khari', 'Evening idli', 'Tickets + cab',\n",
       "       'Movie cab', 'Cm', 'Uta rice', \"Today's date\",\n",
       "       'Train bnglr to gkk', 'Foodpoint', 'Auto lent', 'Finger chips',\n",
       "       'Vijaya nagar bus', 'Biscuit', 'Chapati ', 'Auto on monday',\n",
       "       'Veggies n chips', 'Chips parota', 'Mantri', 'Kshama metro',\n",
       "       'Noodles+juice', 'Washing powder', 'Girrmiitt', 'Shampoo', '11',\n",
       "       'Pizza', 'Udupi', 'Cyrup', '450 lent', 'Auto + cab', 'Fyn + metro',\n",
       "       'Bigbyt', 'Bread ', 'Auto + tindidd', 'Lichi + icecream',\n",
       "       'Pizza hut + petrol', 'Monne uta', 'Train ticket', '180 uldid',\n",
       "       'Nasta n bus charge', 'Brush', 'Bread and milk', 'Freshner',\n",
       "       'Chapati and chakli', 'Arun gift', 'Extra chapati',\n",
       "       'Curd and bingo', 'Shampoo ', 'Hatya', 'Twist o twist', 'Only MRP',\n",
       "       'Hotte splits', 'Aaaaaaaato', 'Tea + juicy', 'Myagyyyy', \"Today's\",\n",
       "       '1330', 'Roti uta', 'Aaavatind parota', 'Pizzeria', 'Bus + auto',\n",
       "       'Vadapav', 'Flipkart', 'Pavbaaji', 'Washingpowder', 'Bluebook',\n",
       "       'Caafeee', 'Chaa poodi', 'Bichi, jam', 'Lingi ', 'Shweta',\n",
       "       'Vegetable', 'Khari', 'Ninne oota', 'Shirdi', 'Chha biscuit',\n",
       "       'Taaza tindi', 'Masalpuri + gobi', 'Sugar ', 'Fries', 'Pani puri ',\n",
       "       'Veg p', 'Papad', 'Bag', 'Raddi', 'Kardant', 'Eyeliner',\n",
       "       'Auto market', 'Gonjal', 'Today', 'Monne tea', 'Peral hannu',\n",
       "       'Dosa+ auto', '...', 'Movie bus', 'Auto and lent', 'Rakhi + uta',\n",
       "       'Go karking', 'Tea + tea + veg puff', 'Yesterday bus',\n",
       "       'Bus seeta-petrol bunk', 'Lingi 177', 'Lingi Gadbad  and Auto',\n",
       "       'Lingi 45', 'Lingi Keeri', 'Pallavi gift', 'Vodka + masal puri',\n",
       "       'Golgappa ', 'Ambavva party', 'Lingi auto', 'Metro card recharge',\n",
       "       'Movie and snacks ', 'Tempo', 'Movie auto', 'Movie uta',\n",
       "       'Bus total today', 'Key', 'Taza tindi + bus', 'Legin', 'Ccd', 'Mg',\n",
       "       'Vadapava', 'Foodbox(Nand treat) ', 'Pallavi (. paid Keerti P.',\n",
       "       'Fyn', 'Elneer + parota', 'Akshay lent', 'Train booking extra',\n",
       "       'Jayanagar uta', 'Big bite ', 'Shirt', 'Pizzaria', 'Fanta chips',\n",
       "       'Top', 'Yesterday night(30+50+75+60)', 'Vasant', 'Biriyanj',\n",
       "       'Parcel', 'Card draw', 'Meghanas', 'Amazon', 'Coffee', 'Bigbite',\n",
       "       'Mtr', 'Bounce refund', 'Tickets (1298) + cancelation chqrge(160)',\n",
       "       'Cable', 'Ticket balance(1000-830-140(cancellation charge)=30) ',\n",
       "       'Ticket balance', 'Exam fee', 'Jamun + piza', \"Nikki's gift\",\n",
       "       'Nikki cake', 'Golgappa + auto', 'Gokarting', 'Bus + tindidd',\n",
       "       'Lent (bus)', 'Mart(yipe+puliog....etc)', 'Polar',\n",
       "       'tez2500-lent200-panipuri30', 'Film + bus', 'Bud', 'Snacks ',\n",
       "       'Vadapav+', 'T-shirts (lent)', 'Lent(Paytm)',\n",
       "       'Kulli parasailing gift', 'Parasailing', 'Film auto', 'Curd rice',\n",
       "       'Auto to rt nagar', 'Auto to parasailing', 'Nim tangi',\n",
       "       'Nikki lent', 'D mart', 'Lent phone pay', 'Madyan', 'Pijjya',\n",
       "       'auto', 'Auto vapas', 'Auto culnight', 'Lent paytm',\n",
       "       'Vegetables + maggi', 'Oil+chips', 'Milk+chakli', 'Lays',\n",
       "       'Petrol not refunded', 'Parasanna bike', 'Commercial Street uta',\n",
       "       'Concert remaining', 'Bike + tindiddu', 'Remaining 568', 'Madve',\n",
       "       'Pizza + bike', 'Elneer lent', 'Samarpana day lent', 'Bounce',\n",
       "       'Traveller', 'Pineapple', 'Juice corner', 'Palav and fevikwik ',\n",
       "       'Jeera', 'Boti', 'Seere', 'Fried rice', 'Pani weds puri', 'Taza',\n",
       "       'Truffle', 'Coffeehouse', 'Big basket', 'Shweta birthday',\n",
       "       'Kitkat', 'Ivattind ', 'Bike + juice - nerale', 'Charger',\n",
       "       'Yesterday', 'Chocolate', 'Monne bike + ninne + naasta',\n",
       "       \"Yesterday's bike 54, per head 40 , and remaining\",\n",
       "       'Panipuri + masalpuri', 'Pallavi (. paid Arun c.',\n",
       "       'Train book oly', 'Cancelation', 'Tickets remaining', 'Courier',\n",
       "       'Ganapati', 'Duracell', 'Juice gobi', 'Yesterday tiffan',\n",
       "       \"Today's nasta remaining\", 'Majjigr', 'Yeshwantpur uta',\n",
       "       'Rotti uta', 'Cricket'], dtype=object)"
      ]
     },
     "execution_count": 253,
     "metadata": {},
     "output_type": "execute_result"
    }
   ],
   "source": [
    "data['Description'].unique()"
   ]
  },
  {
   "cell_type": "markdown",
   "metadata": {},
   "source": [
    "# who drink more tea?"
   ]
  },
  {
   "cell_type": "code",
   "execution_count": 194,
   "metadata": {},
   "outputs": [],
   "source": [
    "persons=['Pallavi','Arun','ShwetaJain','Rahul','Nikitha','Keerti','ambikapatil821','Shruthi.k','Megha','Vardhaman','Vanajakshi']"
   ]
  },
  {
   "cell_type": "code",
   "execution_count": 195,
   "metadata": {},
   "outputs": [
    {
     "data": {
      "text/plain": [
       "<matplotlib.axes._subplots.AxesSubplot at 0x1d360b31be0>"
      ]
     },
     "execution_count": 195,
     "metadata": {},
     "output_type": "execute_result"
    },
    {
     "data": {
      "image/png": "[encoded data removed]",
      "text/plain": [
       "<Figure size 432x288 with 1 Axes>"
      ]
     },
     "metadata": {
      "needs_background": "light"
     },
     "output_type": "display_data"
    }
   ],
   "source": [
    "tea=['tea','Tea','TEA','cha','Cha','coffee','Coffe','Cffe','chyaai','chaa']\n",
    "index=[]\n",
    "for i in range(len(data)):\n",
    "    x=data['Description'].iloc[i].split()\n",
    "    for word in x:\n",
    "        if word in tea:\n",
    "            index.append(i)\n",
    "        else:\n",
    "            continue\n",
    "            \n",
    "tea_df=data.iloc[index]\n",
    "list_=[]\n",
    "for i in range(len(tea_df)):\n",
    "    for j in persons:\n",
    "        if tea_df.iloc[i][j]!=0:\n",
    "            list_.append(j)\n",
    "\n",
    "df1=pd.DataFrame(list_)\n",
    "df1.columns=['names']\n",
    "df3=pd.DataFrame(df1.groupby('names')['names'].count())\n",
    "df3.columns=['count']\n",
    "df3.sort_values('count',ascending=False,inplace=True)\n",
    "df3.plot(kind='bar')\n"
   ]
  },
  {
   "cell_type": "markdown",
   "metadata": {},
   "source": [
    "# which pair has  more transactions?"
   ]
  },
  {
   "cell_type": "code",
   "execution_count": 196,
   "metadata": {},
   "outputs": [
    {
     "data": {
      "text/html": [
       "<div>\n",
       "<style scoped>\n",
       "    .dataframe tbody tr th:only-of-type {\n",
       "        vertical-align: middle;\n",
       "    }\n",
       "\n",
       "    .dataframe tbody tr th {\n",
       "        vertical-align: top;\n",
       "    }\n",
       "\n",
       "    .dataframe thead th {\n",
       "        text-align: right;\n",
       "    }\n",
       "</style>\n",
       "<table border=\"1\" class=\"dataframe\">\n",
       "  <thead>\n",
       "    <tr style=\"text-align: right;\">\n",
       "      <th></th>\n",
       "      <th>pairs</th>\n",
       "      <th>count</th>\n",
       "    </tr>\n",
       "  </thead>\n",
       "  <tbody>\n",
       "    <tr>\n",
       "      <th>29</th>\n",
       "      <td>[Arun, Nikitha]</td>\n",
       "      <td>251</td>\n",
       "    </tr>\n",
       "    <tr>\n",
       "      <th>3</th>\n",
       "      <td>[Arun, Keerti]</td>\n",
       "      <td>140</td>\n",
       "    </tr>\n",
       "    <tr>\n",
       "      <th>2</th>\n",
       "      <td>[Arun, Rahul]</td>\n",
       "      <td>118</td>\n",
       "    </tr>\n",
       "    <tr>\n",
       "      <th>11</th>\n",
       "      <td>[ShwetaJain, Keerti]</td>\n",
       "      <td>117</td>\n",
       "    </tr>\n",
       "    <tr>\n",
       "      <th>8</th>\n",
       "      <td>[Arun, ambikapatil821]</td>\n",
       "      <td>75</td>\n",
       "    </tr>\n",
       "    <tr>\n",
       "      <th>20</th>\n",
       "      <td>[Arun, ShwetaJain]</td>\n",
       "      <td>71</td>\n",
       "    </tr>\n",
       "    <tr>\n",
       "      <th>6</th>\n",
       "      <td>[Keerti, ambikapatil821]</td>\n",
       "      <td>66</td>\n",
       "    </tr>\n",
       "    <tr>\n",
       "      <th>0</th>\n",
       "      <td>[Arun, Vardhaman]</td>\n",
       "      <td>53</td>\n",
       "    </tr>\n",
       "    <tr>\n",
       "      <th>5</th>\n",
       "      <td>[Rahul, Keerti]</td>\n",
       "      <td>52</td>\n",
       "    </tr>\n",
       "    <tr>\n",
       "      <th>31</th>\n",
       "      <td>[Nikitha, Keerti]</td>\n",
       "      <td>40</td>\n",
       "    </tr>\n",
       "    <tr>\n",
       "      <th>23</th>\n",
       "      <td>[ShwetaJain, Nikitha]</td>\n",
       "      <td>35</td>\n",
       "    </tr>\n",
       "    <tr>\n",
       "      <th>13</th>\n",
       "      <td>[Pallavi, ShwetaJain]</td>\n",
       "      <td>30</td>\n",
       "    </tr>\n",
       "    <tr>\n",
       "      <th>4</th>\n",
       "      <td>[Keerti, Vardhaman]</td>\n",
       "      <td>20</td>\n",
       "    </tr>\n",
       "    <tr>\n",
       "      <th>26</th>\n",
       "      <td>[Arun, Shruthi.k]</td>\n",
       "      <td>19</td>\n",
       "    </tr>\n",
       "    <tr>\n",
       "      <th>30</th>\n",
       "      <td>[Rahul, Nikitha]</td>\n",
       "      <td>18</td>\n",
       "    </tr>\n",
       "    <tr>\n",
       "      <th>17</th>\n",
       "      <td>[ShwetaJain, ambikapatil821]</td>\n",
       "      <td>17</td>\n",
       "    </tr>\n",
       "    <tr>\n",
       "      <th>27</th>\n",
       "      <td>[ShwetaJain, Shruthi.k]</td>\n",
       "      <td>16</td>\n",
       "    </tr>\n",
       "    <tr>\n",
       "      <th>10</th>\n",
       "      <td>[Pallavi, Keerti]</td>\n",
       "      <td>15</td>\n",
       "    </tr>\n",
       "    <tr>\n",
       "      <th>16</th>\n",
       "      <td>[ShwetaJain, Rahul]</td>\n",
       "      <td>15</td>\n",
       "    </tr>\n",
       "    <tr>\n",
       "      <th>1</th>\n",
       "      <td>[Rahul, Vardhaman]</td>\n",
       "      <td>15</td>\n",
       "    </tr>\n",
       "    <tr>\n",
       "      <th>32</th>\n",
       "      <td>[Keerti, Shruthi.k]</td>\n",
       "      <td>15</td>\n",
       "    </tr>\n",
       "    <tr>\n",
       "      <th>7</th>\n",
       "      <td>[Rahul, ambikapatil821]</td>\n",
       "      <td>14</td>\n",
       "    </tr>\n",
       "    <tr>\n",
       "      <th>28</th>\n",
       "      <td>[Nikitha, Shruthi.k]</td>\n",
       "      <td>14</td>\n",
       "    </tr>\n",
       "    <tr>\n",
       "      <th>19</th>\n",
       "      <td>[Pallavi, Arun]</td>\n",
       "      <td>14</td>\n",
       "    </tr>\n",
       "    <tr>\n",
       "      <th>14</th>\n",
       "      <td>[Pallavi, Vardhaman]</td>\n",
       "      <td>9</td>\n",
       "    </tr>\n",
       "    <tr>\n",
       "      <th>25</th>\n",
       "      <td>[ambikapatil821, Shruthi.k]</td>\n",
       "      <td>7</td>\n",
       "    </tr>\n",
       "    <tr>\n",
       "      <th>33</th>\n",
       "      <td>[Nikitha, ambikapatil821]</td>\n",
       "      <td>6</td>\n",
       "    </tr>\n",
       "    <tr>\n",
       "      <th>12</th>\n",
       "      <td>[ambikapatil821, Vardhaman]</td>\n",
       "      <td>6</td>\n",
       "    </tr>\n",
       "    <tr>\n",
       "      <th>18</th>\n",
       "      <td>[ShwetaJain, Vardhaman]</td>\n",
       "      <td>6</td>\n",
       "    </tr>\n",
       "    <tr>\n",
       "      <th>22</th>\n",
       "      <td>[Pallavi, ambikapatil821]</td>\n",
       "      <td>4</td>\n",
       "    </tr>\n",
       "    <tr>\n",
       "      <th>15</th>\n",
       "      <td>[Pallavi, Rahul]</td>\n",
       "      <td>4</td>\n",
       "    </tr>\n",
       "    <tr>\n",
       "      <th>34</th>\n",
       "      <td>[Rahul, Shruthi.k]</td>\n",
       "      <td>3</td>\n",
       "    </tr>\n",
       "    <tr>\n",
       "      <th>36</th>\n",
       "      <td>[Nikitha, Megha]</td>\n",
       "      <td>2</td>\n",
       "    </tr>\n",
       "    <tr>\n",
       "      <th>21</th>\n",
       "      <td>[Vardhaman, Vanajakshi]</td>\n",
       "      <td>2</td>\n",
       "    </tr>\n",
       "    <tr>\n",
       "      <th>37</th>\n",
       "      <td>[Keerti, Megha]</td>\n",
       "      <td>2</td>\n",
       "    </tr>\n",
       "    <tr>\n",
       "      <th>38</th>\n",
       "      <td>[Arun, Megha]</td>\n",
       "      <td>1</td>\n",
       "    </tr>\n",
       "    <tr>\n",
       "      <th>24</th>\n",
       "      <td>[Shruthi.k, Vanajakshi]</td>\n",
       "      <td>1</td>\n",
       "    </tr>\n",
       "    <tr>\n",
       "      <th>35</th>\n",
       "      <td>[Pallavi, Nikitha]</td>\n",
       "      <td>1</td>\n",
       "    </tr>\n",
       "    <tr>\n",
       "      <th>9</th>\n",
       "      <td>[Arun, Vanajakshi]</td>\n",
       "      <td>1</td>\n",
       "    </tr>\n",
       "    <tr>\n",
       "      <th>39</th>\n",
       "      <td>[ShwetaJain, Megha]</td>\n",
       "      <td>1</td>\n",
       "    </tr>\n",
       "  </tbody>\n",
       "</table>\n",
       "</div>"
      ],
      "text/plain": [
       "                           pairs  count\n",
       "29               [Arun, Nikitha]    251\n",
       "3                 [Arun, Keerti]    140\n",
       "2                  [Arun, Rahul]    118\n",
       "11          [ShwetaJain, Keerti]    117\n",
       "8         [Arun, ambikapatil821]     75\n",
       "20            [Arun, ShwetaJain]     71\n",
       "6       [Keerti, ambikapatil821]     66\n",
       "0              [Arun, Vardhaman]     53\n",
       "5                [Rahul, Keerti]     52\n",
       "31             [Nikitha, Keerti]     40\n",
       "23         [ShwetaJain, Nikitha]     35\n",
       "13         [Pallavi, ShwetaJain]     30\n",
       "4            [Keerti, Vardhaman]     20\n",
       "26             [Arun, Shruthi.k]     19\n",
       "30              [Rahul, Nikitha]     18\n",
       "17  [ShwetaJain, ambikapatil821]     17\n",
       "27       [ShwetaJain, Shruthi.k]     16\n",
       "10             [Pallavi, Keerti]     15\n",
       "16           [ShwetaJain, Rahul]     15\n",
       "1             [Rahul, Vardhaman]     15\n",
       "32           [Keerti, Shruthi.k]     15\n",
       "7        [Rahul, ambikapatil821]     14\n",
       "28          [Nikitha, Shruthi.k]     14\n",
       "19               [Pallavi, Arun]     14\n",
       "14          [Pallavi, Vardhaman]      9\n",
       "25   [ambikapatil821, Shruthi.k]      7\n",
       "33     [Nikitha, ambikapatil821]      6\n",
       "12   [ambikapatil821, Vardhaman]      6\n",
       "18       [ShwetaJain, Vardhaman]      6\n",
       "22     [Pallavi, ambikapatil821]      4\n",
       "15              [Pallavi, Rahul]      4\n",
       "34            [Rahul, Shruthi.k]      3\n",
       "36              [Nikitha, Megha]      2\n",
       "21       [Vardhaman, Vanajakshi]      2\n",
       "37               [Keerti, Megha]      2\n",
       "38                 [Arun, Megha]      1\n",
       "24       [Shruthi.k, Vanajakshi]      1\n",
       "35            [Pallavi, Nikitha]      1\n",
       "9             [Arun, Vanajakshi]      1\n",
       "39           [ShwetaJain, Megha]      1"
      ]
     },
     "execution_count": 196,
     "metadata": {},
     "output_type": "execute_result"
    }
   ],
   "source": [
    "index=[]\n",
    "for j in range(len(data)):\n",
    "    combinations=[]\n",
    "    for i in persons: \n",
    "        if data.iloc[j][i] !=0:\n",
    "            combinations.append(i)\n",
    "    index.append(combinations)\n",
    "pair=[]\n",
    "for i in index:\n",
    "    if len(i)==2:\n",
    "        pair.append(i)\n",
    "result=[]\n",
    "for i in pair:\n",
    "    count=0\n",
    "    for j in pair:\n",
    "        if i==j:\n",
    "            count=count+1\n",
    "    x=[i,count]\n",
    "    if x not in result:\n",
    "        result.append(x)\n",
    "    \n",
    "df=pd.DataFrame(result)\n",
    "df.columns=['pairs','count']\n",
    "df.sort_values('count',ascending=False)"
   ]
  },
  {
   "cell_type": "markdown",
   "metadata": {},
   "source": [
    "# lets analyse  these top two  pair each"
   ]
  },
  {
   "cell_type": "markdown",
   "metadata": {},
   "source": [
    "# arun_nikitha"
   ]
  },
  {
   "cell_type": "code",
   "execution_count": 198,
   "metadata": {},
   "outputs": [],
   "source": [
    "arun_nikitha=data[(data['Arun']!=0)&(data['Nikitha']!=0)&(data['Pallavi']==0)&(data['ShwetaJain']==0)&(data['Rahul']==0)&(data['Keerti']==0)&(data['ambikapatil821']==0)&(data['Shruthi.k']==0)&(data['Megha']==0)&(data['Vardhaman']==0)&(data['Vanajakshi']==0)]"
   ]
  },
  {
   "cell_type": "markdown",
   "metadata": {},
   "source": [
    "### how much they spent together..?"
   ]
  },
  {
   "cell_type": "code",
   "execution_count": 199,
   "metadata": {},
   "outputs": [
    {
     "name": "stdout",
     "output_type": "stream",
     "text": [
      "they spent 15028.32 Rs together\n"
     ]
    }
   ],
   "source": [
    "print('they spent',(arun_nikitha['Nikitha'].sum())*2,'Rs together')"
   ]
  },
  {
   "cell_type": "code",
   "execution_count": 200,
   "metadata": {},
   "outputs": [
    {
     "data": {
      "text/plain": [
       "-7514.16"
      ]
     },
     "execution_count": 200,
     "metadata": {},
     "output_type": "execute_result"
    }
   ],
   "source": [
    "arun_nikitha['Arun'].sum()\n"
   ]
  },
  {
   "cell_type": "markdown",
   "metadata": {},
   "source": [
    "#### By this we can conclude that nikitha paid most of the time whenevr  only they go outside "
   ]
  },
  {
   "cell_type": "markdown",
   "metadata": {},
   "source": [
    "#  "
   ]
  },
  {
   "cell_type": "markdown",
   "metadata": {},
   "source": [
    "## did they ever went to movie together..?"
   ]
  },
  {
   "cell_type": "code",
   "execution_count": 28,
   "metadata": {},
   "outputs": [
    {
     "name": "stdout",
     "output_type": "stream",
     "text": [
      "Film\n",
      "2223    2019-01-07\n",
      "Name: Date, dtype: object\n",
      "\n",
      "\n",
      "Film auto\n",
      "2224    2019-01-07\n",
      "Name: Date, dtype: object\n",
      "\n",
      "\n"
     ]
    }
   ],
   "source": [
    "for i in arun_nikitha['Description']:\n",
    "    j=i.split()\n",
    "    for x in j:\n",
    "        if x in ['Film','film','movie','Movie','MOVIE','FILM','picture']:\n",
    "            print(i)\n",
    "            print(arun_nikitha[arun_nikitha['Description']==i]['Date'])\n",
    "            print('\\n')"
   ]
  },
  {
   "cell_type": "markdown",
   "metadata": {},
   "source": [
    "### yes they went on 7th Jan 2019 or (a day  back if they updated it later) "
   ]
  },
  {
   "cell_type": "markdown",
   "metadata": {},
   "source": [
    "#  "
   ]
  },
  {
   "cell_type": "markdown",
   "metadata": {},
   "source": [
    "## who lents whom often and how much...?"
   ]
  },
  {
   "cell_type": "code",
   "execution_count": 29,
   "metadata": {},
   "outputs": [
    {
     "name": "stdout",
     "output_type": "stream",
     "text": [
      "Arun has given lent to nikitha of amount of RS 20835.0  in total\n",
      "Arun has given lent to nikitha 29 times in total\n"
     ]
    }
   ],
   "source": [
    "xx=arun_nikitha[(arun_nikitha['Description']=='Lent')& (arun_nikitha['Arun']>=0)]['Arun'].sum()\n",
    "countt=arun_nikitha[(arun_nikitha['Description']=='Lent')& (arun_nikitha['Arun']>=0)]['Arun'].count()\n",
    "print('Arun has given lent to nikitha of amount of RS',xx,' in total')\n",
    "print('Arun has given lent to nikitha',countt,'times in total')"
   ]
  },
  {
   "cell_type": "code",
   "execution_count": 30,
   "metadata": {},
   "outputs": [
    {
     "name": "stdout",
     "output_type": "stream",
     "text": [
      "Nikitha has given lent to arun of amount of RS 31241.0  in total\n",
      "Nikitha has given lent to arun 53 times in total\n"
     ]
    }
   ],
   "source": [
    "xx=arun_nikitha[(arun_nikitha['Description']=='Lent')& (arun_nikitha['Nikitha']>=0)]['Nikitha'].sum()\n",
    "countt=arun_nikitha[(arun_nikitha['Description']=='Lent')& (arun_nikitha['Nikitha']>=0)]['Nikitha'].count()\n",
    "print('Nikitha has given lent to arun of amount of RS',xx,' in total')\n",
    "print('Nikitha has given lent to arun',countt,'times in total')"
   ]
  },
  {
   "cell_type": "markdown",
   "metadata": {},
   "source": [
    "# arun_keerti"
   ]
  },
  {
   "cell_type": "code",
   "execution_count": 31,
   "metadata": {},
   "outputs": [],
   "source": [
    "arun_keerti=data[(data['Arun']!=0)&(data['Nikitha']==0)&(data['Pallzz']==0)&(data['ShwetaJain']==0)&(data['Rahul']==0)&(data['Keerti']!=0)&(data['ambikapatil821']==0)&(data['Shruthi.k']==0)&(data['Megha']==0)&(data['Varun']==0)&(data['Vanajakshi']==0)]"
   ]
  },
  {
   "cell_type": "code",
   "execution_count": 32,
   "metadata": {},
   "outputs": [
    {
     "name": "stdout",
     "output_type": "stream",
     "text": [
      "they spent 15162.58 Rs together\n"
     ]
    }
   ],
   "source": [
    "### how much they spent together..?\n",
    "\n",
    "print('they spent',(arun_keerti['Keerti'].sum())*2,'Rs together')"
   ]
  },
  {
   "cell_type": "code",
   "execution_count": 33,
   "metadata": {},
   "outputs": [
    {
     "data": {
      "text/plain": [
       "-7581.29"
      ]
     },
     "execution_count": 33,
     "metadata": {},
     "output_type": "execute_result"
    }
   ],
   "source": [
    "arun_keerti['Arun'].sum()"
   ]
  },
  {
   "cell_type": "markdown",
   "metadata": {},
   "source": [
    "### By this we can conclude that arun paid most of the time whenevr  only they go outside "
   ]
  },
  {
   "cell_type": "markdown",
   "metadata": {},
   "source": [
    "### did they ever went to movie together..?"
   ]
  },
  {
   "cell_type": "code",
   "execution_count": 34,
   "metadata": {},
   "outputs": [
    {
     "name": "stdout",
     "output_type": "stream",
     "text": [
      "no data found \n"
     ]
    }
   ],
   "source": [
    "data1=[]\n",
    "for i in arun_keerti['Description']:\n",
    "    j=i.split()\n",
    "    for x in j:\n",
    "        if x in ['Film','film','movie','Movie','MOVIE','FILM','picture']:\n",
    "            print(i)\n",
    "            data1.append(arun_keerti[arun_keerti['Description']==i]['Date'])\n",
    "            print('\\n')\n",
    "if len(data1)==0:\n",
    "    print('no data found ')"
   ]
  },
  {
   "cell_type": "markdown",
   "metadata": {},
   "source": [
    "#### they never went to film together according to the group data"
   ]
  },
  {
   "cell_type": "code",
   "execution_count": 35,
   "metadata": {},
   "outputs": [
    {
     "data": {
      "text/html": [
       "<div>\n",
       "<style scoped>\n",
       "    .dataframe tbody tr th:only-of-type {\n",
       "        vertical-align: middle;\n",
       "    }\n",
       "\n",
       "    .dataframe tbody tr th {\n",
       "        vertical-align: top;\n",
       "    }\n",
       "\n",
       "    .dataframe thead th {\n",
       "        text-align: right;\n",
       "    }\n",
       "</style>\n",
       "<table border=\"1\" class=\"dataframe\">\n",
       "  <thead>\n",
       "    <tr style=\"text-align: right;\">\n",
       "      <th></th>\n",
       "      <th>Date</th>\n",
       "      <th>Description</th>\n",
       "      <th>Category</th>\n",
       "      <th>Cost</th>\n",
       "      <th>Currency</th>\n",
       "      <th>Pallzz</th>\n",
       "      <th>Arun</th>\n",
       "      <th>ShwetaJain</th>\n",
       "      <th>Rahul</th>\n",
       "      <th>Nikitha</th>\n",
       "      <th>Keerti</th>\n",
       "      <th>ambikapatil821</th>\n",
       "      <th>Shruthi.k</th>\n",
       "      <th>Megha</th>\n",
       "      <th>Varun</th>\n",
       "      <th>Vanajakshi</th>\n",
       "    </tr>\n",
       "  </thead>\n",
       "  <tbody>\n",
       "    <tr>\n",
       "      <th>0</th>\n",
       "      <td>2017-05-15</td>\n",
       "      <td>1045</td>\n",
       "      <td>General</td>\n",
       "      <td>1045.00</td>\n",
       "      <td>INR</td>\n",
       "      <td>0.0</td>\n",
       "      <td>-348.33</td>\n",
       "      <td>0.0</td>\n",
       "      <td>696.66</td>\n",
       "      <td>0.0</td>\n",
       "      <td>0.0</td>\n",
       "      <td>0.0</td>\n",
       "      <td>0.0</td>\n",
       "      <td>0.0</td>\n",
       "      <td>-348.33</td>\n",
       "      <td>0.0</td>\n",
       "    </tr>\n",
       "    <tr>\n",
       "      <th>1</th>\n",
       "      <td>2017-05-15</td>\n",
       "      <td>212</td>\n",
       "      <td>General</td>\n",
       "      <td>212.00</td>\n",
       "      <td>INR</td>\n",
       "      <td>0.0</td>\n",
       "      <td>-212.00</td>\n",
       "      <td>0.0</td>\n",
       "      <td>0.00</td>\n",
       "      <td>0.0</td>\n",
       "      <td>0.0</td>\n",
       "      <td>0.0</td>\n",
       "      <td>0.0</td>\n",
       "      <td>0.0</td>\n",
       "      <td>212.00</td>\n",
       "      <td>0.0</td>\n",
       "    </tr>\n",
       "    <tr>\n",
       "      <th>2</th>\n",
       "      <td>2017-05-15</td>\n",
       "      <td>Ice cream</td>\n",
       "      <td>Groceries</td>\n",
       "      <td>170.00</td>\n",
       "      <td>INR</td>\n",
       "      <td>0.0</td>\n",
       "      <td>113.33</td>\n",
       "      <td>0.0</td>\n",
       "      <td>-56.67</td>\n",
       "      <td>0.0</td>\n",
       "      <td>0.0</td>\n",
       "      <td>0.0</td>\n",
       "      <td>0.0</td>\n",
       "      <td>0.0</td>\n",
       "      <td>-56.66</td>\n",
       "      <td>0.0</td>\n",
       "    </tr>\n",
       "    <tr>\n",
       "      <th>3</th>\n",
       "      <td>2017-05-15</td>\n",
       "      <td>Ananda rao</td>\n",
       "      <td>General</td>\n",
       "      <td>210.00</td>\n",
       "      <td>INR</td>\n",
       "      <td>0.0</td>\n",
       "      <td>140.00</td>\n",
       "      <td>0.0</td>\n",
       "      <td>-70.00</td>\n",
       "      <td>0.0</td>\n",
       "      <td>0.0</td>\n",
       "      <td>0.0</td>\n",
       "      <td>0.0</td>\n",
       "      <td>0.0</td>\n",
       "      <td>-70.00</td>\n",
       "      <td>0.0</td>\n",
       "    </tr>\n",
       "    <tr>\n",
       "      <th>4</th>\n",
       "      <td>2017-05-15</td>\n",
       "      <td>Book</td>\n",
       "      <td>General</td>\n",
       "      <td>600.00</td>\n",
       "      <td>INR</td>\n",
       "      <td>0.0</td>\n",
       "      <td>600.00</td>\n",
       "      <td>0.0</td>\n",
       "      <td>0.00</td>\n",
       "      <td>0.0</td>\n",
       "      <td>0.0</td>\n",
       "      <td>0.0</td>\n",
       "      <td>0.0</td>\n",
       "      <td>0.0</td>\n",
       "      <td>-600.00</td>\n",
       "      <td>0.0</td>\n",
       "    </tr>\n",
       "  </tbody>\n",
       "</table>\n",
       "</div>"
      ],
      "text/plain": [
       "         Date Description   Category     Cost Currency  Pallzz    Arun  \\\n",
       "0  2017-05-15        1045    General  1045.00      INR     0.0 -348.33   \n",
       "1  2017-05-15         212    General   212.00      INR     0.0 -212.00   \n",
       "2  2017-05-15   Ice cream  Groceries   170.00      INR     0.0  113.33   \n",
       "3  2017-05-15  Ananda rao    General   210.00      INR     0.0  140.00   \n",
       "4  2017-05-15        Book    General   600.00      INR     0.0  600.00   \n",
       "\n",
       "   ShwetaJain   Rahul  Nikitha  Keerti  ambikapatil821  Shruthi.k  Megha  \\\n",
       "0         0.0  696.66      0.0     0.0             0.0        0.0    0.0   \n",
       "1         0.0    0.00      0.0     0.0             0.0        0.0    0.0   \n",
       "2         0.0  -56.67      0.0     0.0             0.0        0.0    0.0   \n",
       "3         0.0  -70.00      0.0     0.0             0.0        0.0    0.0   \n",
       "4         0.0    0.00      0.0     0.0             0.0        0.0    0.0   \n",
       "\n",
       "    Varun  Vanajakshi  \n",
       "0 -348.33         0.0  \n",
       "1  212.00         0.0  \n",
       "2  -56.66         0.0  \n",
       "3  -70.00         0.0  \n",
       "4 -600.00         0.0  "
      ]
     },
     "execution_count": 35,
     "metadata": {},
     "output_type": "execute_result"
    }
   ],
   "source": [
    "data.head()"
   ]
  },
  {
   "cell_type": "markdown",
   "metadata": {},
   "source": [
    "# Group Activeness"
   ]
  },
  {
   "cell_type": "code",
   "execution_count": 46,
   "metadata": {},
   "outputs": [],
   "source": [
    "import datetime"
   ]
  },
  {
   "cell_type": "code",
   "execution_count": 68,
   "metadata": {},
   "outputs": [],
   "source": [
    "data['Date']=pd.to_datetime(data['Date']).dt.strftime('%b-%d-%Y')"
   ]
  },
  {
   "cell_type": "code",
   "execution_count": 91,
   "metadata": {},
   "outputs": [],
   "source": [
    "month=[]\n",
    "year=[]\n",
    "for i in range(len(data)):\n",
    "    month.append(data['Date'].iloc[i].split('-')[0])\n",
    "    year.append(data['Date'].iloc[i].split('-')[2])\n",
    "    \n",
    "data['month']=month\n",
    "data['year']=year"
   ]
  },
  {
   "cell_type": "code",
   "execution_count": 92,
   "metadata": {},
   "outputs": [
    {
     "data": {
      "text/html": [
       "<div>\n",
       "<style scoped>\n",
       "    .dataframe tbody tr th:only-of-type {\n",
       "        vertical-align: middle;\n",
       "    }\n",
       "\n",
       "    .dataframe tbody tr th {\n",
       "        vertical-align: top;\n",
       "    }\n",
       "\n",
       "    .dataframe thead th {\n",
       "        text-align: right;\n",
       "    }\n",
       "</style>\n",
       "<table border=\"1\" class=\"dataframe\">\n",
       "  <thead>\n",
       "    <tr style=\"text-align: right;\">\n",
       "      <th></th>\n",
       "      <th>Date</th>\n",
       "      <th>Description</th>\n",
       "      <th>Category</th>\n",
       "      <th>Cost</th>\n",
       "      <th>Currency</th>\n",
       "      <th>Pallzz</th>\n",
       "      <th>Arun</th>\n",
       "      <th>ShwetaJain</th>\n",
       "      <th>Rahul</th>\n",
       "      <th>Nikitha</th>\n",
       "      <th>Keerti</th>\n",
       "      <th>ambikapatil821</th>\n",
       "      <th>Shruthi.k</th>\n",
       "      <th>Megha</th>\n",
       "      <th>Varun</th>\n",
       "      <th>Vanajakshi</th>\n",
       "      <th>date1</th>\n",
       "      <th>month</th>\n",
       "      <th>year</th>\n",
       "    </tr>\n",
       "  </thead>\n",
       "  <tbody>\n",
       "    <tr>\n",
       "      <th>0</th>\n",
       "      <td>May-15-2017</td>\n",
       "      <td>1045</td>\n",
       "      <td>General</td>\n",
       "      <td>1045.00</td>\n",
       "      <td>INR</td>\n",
       "      <td>0.0</td>\n",
       "      <td>-348.33</td>\n",
       "      <td>0.0</td>\n",
       "      <td>696.66</td>\n",
       "      <td>0.0</td>\n",
       "      <td>0.0</td>\n",
       "      <td>0.0</td>\n",
       "      <td>0.0</td>\n",
       "      <td>0.0</td>\n",
       "      <td>-348.33</td>\n",
       "      <td>0.0</td>\n",
       "      <td>May 2017</td>\n",
       "      <td>May</td>\n",
       "      <td>2017</td>\n",
       "    </tr>\n",
       "    <tr>\n",
       "      <th>1</th>\n",
       "      <td>May-15-2017</td>\n",
       "      <td>212</td>\n",
       "      <td>General</td>\n",
       "      <td>212.00</td>\n",
       "      <td>INR</td>\n",
       "      <td>0.0</td>\n",
       "      <td>-212.00</td>\n",
       "      <td>0.0</td>\n",
       "      <td>0.00</td>\n",
       "      <td>0.0</td>\n",
       "      <td>0.0</td>\n",
       "      <td>0.0</td>\n",
       "      <td>0.0</td>\n",
       "      <td>0.0</td>\n",
       "      <td>212.00</td>\n",
       "      <td>0.0</td>\n",
       "      <td>May 2017</td>\n",
       "      <td>May</td>\n",
       "      <td>2017</td>\n",
       "    </tr>\n",
       "    <tr>\n",
       "      <th>2</th>\n",
       "      <td>May-15-2017</td>\n",
       "      <td>Ice cream</td>\n",
       "      <td>Groceries</td>\n",
       "      <td>170.00</td>\n",
       "      <td>INR</td>\n",
       "      <td>0.0</td>\n",
       "      <td>113.33</td>\n",
       "      <td>0.0</td>\n",
       "      <td>-56.67</td>\n",
       "      <td>0.0</td>\n",
       "      <td>0.0</td>\n",
       "      <td>0.0</td>\n",
       "      <td>0.0</td>\n",
       "      <td>0.0</td>\n",
       "      <td>-56.66</td>\n",
       "      <td>0.0</td>\n",
       "      <td>May 2017</td>\n",
       "      <td>May</td>\n",
       "      <td>2017</td>\n",
       "    </tr>\n",
       "    <tr>\n",
       "      <th>3</th>\n",
       "      <td>May-15-2017</td>\n",
       "      <td>Ananda rao</td>\n",
       "      <td>General</td>\n",
       "      <td>210.00</td>\n",
       "      <td>INR</td>\n",
       "      <td>0.0</td>\n",
       "      <td>140.00</td>\n",
       "      <td>0.0</td>\n",
       "      <td>-70.00</td>\n",
       "      <td>0.0</td>\n",
       "      <td>0.0</td>\n",
       "      <td>0.0</td>\n",
       "      <td>0.0</td>\n",
       "      <td>0.0</td>\n",
       "      <td>-70.00</td>\n",
       "      <td>0.0</td>\n",
       "      <td>May 2017</td>\n",
       "      <td>May</td>\n",
       "      <td>2017</td>\n",
       "    </tr>\n",
       "    <tr>\n",
       "      <th>4</th>\n",
       "      <td>May-15-2017</td>\n",
       "      <td>Book</td>\n",
       "      <td>General</td>\n",
       "      <td>600.00</td>\n",
       "      <td>INR</td>\n",
       "      <td>0.0</td>\n",
       "      <td>600.00</td>\n",
       "      <td>0.0</td>\n",
       "      <td>0.00</td>\n",
       "      <td>0.0</td>\n",
       "      <td>0.0</td>\n",
       "      <td>0.0</td>\n",
       "      <td>0.0</td>\n",
       "      <td>0.0</td>\n",
       "      <td>-600.00</td>\n",
       "      <td>0.0</td>\n",
       "      <td>May 2017</td>\n",
       "      <td>May</td>\n",
       "      <td>2017</td>\n",
       "    </tr>\n",
       "  </tbody>\n",
       "</table>\n",
       "</div>"
      ],
      "text/plain": [
       "          Date Description   Category     Cost Currency  Pallzz    Arun  \\\n",
       "0  May-15-2017        1045    General  1045.00      INR     0.0 -348.33   \n",
       "1  May-15-2017         212    General   212.00      INR     0.0 -212.00   \n",
       "2  May-15-2017   Ice cream  Groceries   170.00      INR     0.0  113.33   \n",
       "3  May-15-2017  Ananda rao    General   210.00      INR     0.0  140.00   \n",
       "4  May-15-2017        Book    General   600.00      INR     0.0  600.00   \n",
       "\n",
       "   ShwetaJain   Rahul  Nikitha  Keerti  ambikapatil821  Shruthi.k  Megha  \\\n",
       "0         0.0  696.66      0.0     0.0             0.0        0.0    0.0   \n",
       "1         0.0    0.00      0.0     0.0             0.0        0.0    0.0   \n",
       "2         0.0  -56.67      0.0     0.0             0.0        0.0    0.0   \n",
       "3         0.0  -70.00      0.0     0.0             0.0        0.0    0.0   \n",
       "4         0.0    0.00      0.0     0.0             0.0        0.0    0.0   \n",
       "\n",
       "    Varun  Vanajakshi     date1 month  year  \n",
       "0 -348.33         0.0  May 2017   May  2017  \n",
       "1  212.00         0.0  May 2017   May  2017  \n",
       "2  -56.66         0.0  May 2017   May  2017  \n",
       "3  -70.00         0.0  May 2017   May  2017  \n",
       "4 -600.00         0.0  May 2017   May  2017  "
      ]
     },
     "execution_count": 92,
     "metadata": {},
     "output_type": "execute_result"
    }
   ],
   "source": [
    "data.head()"
   ]
  },
  {
   "cell_type": "code",
   "execution_count": 154,
   "metadata": {},
   "outputs": [],
   "source": [
    "year_2017=pd.DataFrame(data[data['year']=='2017'].groupby(['month'])['month'].count())\n",
    "year_2018=pd.DataFrame(data[data['year']=='2018'].groupby(['month'])['month'].count())\n",
    "year_2019=pd.DataFrame(data[data['year']=='2019'].groupby(['month'])['month'].count())"
   ]
  },
  {
   "cell_type": "code",
   "execution_count": 162,
   "metadata": {},
   "outputs": [
    {
     "data": {
      "text/plain": [
       "<matplotlib.legend.Legend at 0x1d3601e8278>"
      ]
     },
     "execution_count": 162,
     "metadata": {},
     "output_type": "execute_result"
    },
    {
     "data": {
      "image/png": "[encoded data removed]",
      "text/plain": [
       "<Figure size 432x288 with 1 Axes>"
      ]
     },
     "metadata": {
      "needs_background": "light"
     },
     "output_type": "display_data"
    }
   ],
   "source": [
    "plt.plot(year_2018,label='2018')\n",
    "plt.plot(year_2017,label='2017')\n",
    "plt.plot(year_2019,label='2019')\n",
    "plt.legend()"
   ]
  },
  {
   "cell_type": "markdown",
   "metadata": {},
   "source": [
    "### group was more active in the year 2018 and less at 2019\n",
    "### Reason: we passed out from our college in Aug 2018"
   ]
  },
  {
   "cell_type": "markdown",
   "metadata": {},
   "source": [
    "#    "
   ]
  },
  {
   "cell_type": "markdown",
   "metadata": {},
   "source": [
    "#   "
   ]
  },
  {
   "cell_type": "markdown",
   "metadata": {},
   "source": [
    "## Days when we went to trip"
   ]
  },
  {
   "cell_type": "code",
   "execution_count": 177,
   "metadata": {},
   "outputs": [
    {
     "name": "stdout",
     "output_type": "stream",
     "text": [
      "Trip (3995)=3700(keerti)+295(vardhaman)\n",
      "378    Oct-01-2017\n",
      "Name: Date, dtype: object\n",
      "\n",
      "\n",
      "Trip and uta \n",
      "391    Oct-04-2017\n",
      "Name: Date, dtype: object\n",
      "\n",
      "\n",
      "Trip and ticket\n",
      "419    Oct-12-2017\n",
      "Name: Date, dtype: object\n",
      "\n",
      "\n",
      "Trip\n",
      "506     Nov-09-2017\n",
      "2098    Sep-29-2018\n",
      "Name: Date, dtype: object\n",
      "\n",
      "\n",
      "Trip previous day uta\n",
      "574    Nov-13-2017\n",
      "Name: Date, dtype: object\n",
      "\n",
      "\n",
      "Trip night uta\n",
      "576    Nov-13-2017\n",
      "Name: Date, dtype: object\n",
      "\n",
      "\n",
      "Trip morning tiffin\n",
      "577    Nov-13-2017\n",
      "Name: Date, dtype: object\n",
      "\n",
      "\n",
      "Enne trip\n",
      "1035    Feb-23-2018\n",
      "Name: Date, dtype: object\n",
      "\n",
      "\n",
      "Trip\n",
      "506     Nov-09-2017\n",
      "2098    Sep-29-2018\n",
      "Name: Date, dtype: object\n",
      "\n",
      "\n"
     ]
    }
   ],
   "source": [
    "for i in data['Description']:\n",
    "    j=i.split()\n",
    "    for x in j:\n",
    "        if x in ['trip','Trip','trp']:\n",
    "            print(i)\n",
    "            print(data[data['Description']==i]['Date'])\n",
    "            print('\\n')"
   ]
  },
  {
   "cell_type": "markdown",
   "metadata": {},
   "source": [
    "## who eats junk food a lot..?"
   ]
  },
  {
   "cell_type": "code",
   "execution_count": 178,
   "metadata": {},
   "outputs": [
    {
     "data": {
      "text/plain": [
       "<matplotlib.axes._subplots.AxesSubplot at 0x1d360aaff28>"
      ]
     },
     "execution_count": 178,
     "metadata": {},
     "output_type": "execute_result"
    },
    {
     "data": {
      "image/png": "[encoded data removed]",
      "text/plain": [
       "<Figure size 432x288 with 1 Axes>"
      ]
     },
     "metadata": {
      "needs_background": "light"
     },
     "output_type": "display_data"
    }
   ],
   "source": [
    "junk=['Puffs','French fries','noodles & noodles ', 'Golagappa','Rooftop','Puri','snacks','Finger ring ', 'Golgappa','M1 sandwiches','Twist and momos','Bhajji','Panipuri','Op Al and snacks','Pizza hut','Mirchi','Twister', 'girrmitt', 'cake', 'pav bhajji', 'Chats','Girrmitt & mirchiii','Pani puri','panipuri','Kachori', 'Bajji','Fingerchip','Sevpuri','Bhel','Puffs','French fries','noodles & noodles ', 'Golagappa','Rooftop','Puri','snacks','Finger ring ', 'Golgappa','M1 sandwiches','Twist and momos','Bhajji','Panipuri','Op Al and snacks','Pizza hut','Mirchi','Twister', 'girrmitt', 'cake', 'pav bhajji', 'Chats','Girrmitt & mirchiii','Pani puri','panipuri','Kachori', 'Bajji','Fingerchip','Sevpuri','Bhel','Chats','Girmittt','Bajji','Coke','Masal puri','Cutlet','Mangalore bajji', 'Rolls','Chilly', 'Mangalore bajji', 'Rolls','Potato twist','Golapappa','Dahi puri','Samosa','Food steet','Food street','Patato twist','Twist','Onion and chilly','Veg puff','Vada paav','Vada pav','Gobi+goglegappa','Aaaloooo', 'Aalllooo', 'Sandwich','Vada','Golgappq','Samosa+burger','Popcorn','Twister','Donut','Tornado','Pav+ bhel','Pani puri','Kachori chat','Uta(Soft drink)','Dhai puri','Lays','Gol gappa','Goli baje','Sandwich burgers','Cake lollypop etc','Masala puri','Manchurian','Bajji+girmit','Chole bature + french fries','Twist o twist','Taaza tindi', 'Masalpuri + gobi', 'Sugar ', 'Fries', 'Pani puri ','Vodka + masal puri','Golgappa ','Pizzaria', 'Fanta chips','Pani weds puri','Panipuri + masalpuri','Mirchi baji']\n",
    "index=[]\n",
    "for i in range(len(data)):\n",
    "    x=data['Description'].iloc[i].split()\n",
    "    for word in x:\n",
    "        if word in junk:\n",
    "            index.append(i)\n",
    "        else:\n",
    "            continue\n",
    "            \n",
    "junk_df=data.iloc[index]\n",
    "list_=[]\n",
    "for i in range(len(junk_df)):\n",
    "    for j in persons:\n",
    "        if junk_df.iloc[i][j]!=0:\n",
    "            list_.append(j)\n",
    "\n",
    "df1=pd.DataFrame(list_)\n",
    "df1.columns=['names']\n",
    "df3=pd.DataFrame(df1.groupby('names')['names'].count())\n",
    "df3.columns=['count']\n",
    "df3.sort_values('count',ascending=False,inplace=True)\n",
    "df3.plot(kind='bar')"
   ]
  },
  {
   "cell_type": "markdown",
   "metadata": {},
   "source": [
    "## who eats icecream a lot...?"
   ]
  },
  {
   "cell_type": "code",
   "execution_count": 247,
   "metadata": {},
   "outputs": [
    {
     "data": {
      "text/plain": [
       "<matplotlib.axes._subplots.AxesSubplot at 0x1d360def588>"
      ]
     },
     "execution_count": 247,
     "metadata": {},
     "output_type": "execute_result"
    },
    {
     "data": {
      "image/png": "[encoded data removed]",
      "text/plain": [
       "<Figure size 432x288 with 1 Axes>"
      ]
     },
     "metadata": {
      "needs_background": "light"
     },
     "output_type": "display_data"
    }
   ],
   "source": [
    "icecream=['Ice cream','Icecreme','Roller ice cream','kulfi','Kulfi','Icecream','Nicecream','Aichcreem','Ice Cream','Gadbad + auto','Gadbad','icecream','Polar']\n",
    "index=[]\n",
    "for i in range(len(data)):\n",
    "    x=data['Description'].iloc[i].split()\n",
    "    for word in x:\n",
    "        if word in icecream:\n",
    "            index.append(i)\n",
    "        else:\n",
    "            continue\n",
    "            \n",
    "icecream_df=data.iloc[index]\n",
    "list_=[]\n",
    "for i in range(len(icecream_df)):\n",
    "    for j in persons:\n",
    "        if icecream_df.iloc[i][j]!=0:\n",
    "            list_.append(j)\n",
    "\n",
    "df1=pd.DataFrame(list_)\n",
    "df1.columns=['names']\n",
    "df3=pd.DataFrame(df1.groupby('names')['names'].count())\n",
    "df3.columns=['count']\n",
    "df3.sort_values('count',ascending=False,inplace=True)\n",
    "df3.plot(kind='bar')"
   ]
  },
  {
   "cell_type": "markdown",
   "metadata": {},
   "source": [
    "#### intresting pallavi did not eat a single icecream with anyone of us"
   ]
  },
  {
   "cell_type": "markdown",
   "metadata": {},
   "source": [
    "#   "
   ]
  },
  {
   "cell_type": "markdown",
   "metadata": {},
   "source": [
    "## who all recieved the gift..?"
   ]
  },
  {
   "cell_type": "code",
   "execution_count": 181,
   "metadata": {},
   "outputs": [
    {
     "name": "stdout",
     "output_type": "stream",
     "text": [
      "Gift shwetha\n",
      "660    Dec-05-2017\n",
      "Name: Date, dtype: object\n",
      "\n",
      "\n",
      "Shweta gift\n",
      "1559    May-26-2018\n",
      "Name: Date, dtype: object\n",
      "\n",
      "\n",
      "Arun gift\n",
      "1791    Jul-03-2018\n",
      "Name: Date, dtype: object\n",
      "\n",
      "\n",
      "Pallavi gift\n",
      "2038    Aug-29-2018\n",
      "Name: Date, dtype: object\n",
      "\n",
      "\n",
      "Nikki's gift\n",
      "2190    Nov-23-2018\n",
      "Name: Date, dtype: object\n",
      "\n",
      "\n",
      "Kulli parasailing gift\n",
      "2221    Jan-06-2019\n",
      "Name: Date, dtype: object\n",
      "\n",
      "\n"
     ]
    }
   ],
   "source": [
    "for i in data['Description']:\n",
    "    j=i.split()\n",
    "    for x in j:\n",
    "        if x in ['Gift','gift','GIFT','gft']:\n",
    "            print(i)\n",
    "            print(data[data['Description']==i]['Date'])\n",
    "            print('\\n')"
   ]
  },
  {
   "cell_type": "markdown",
   "metadata": {},
   "source": [
    "## how much we spent on bike rentals "
   ]
  },
  {
   "cell_type": "code",
   "execution_count": 248,
   "metadata": {},
   "outputs": [
    {
     "name": "stdout",
     "output_type": "stream",
     "text": [
      "we have spent of amount 13273.0 Rs  on bike rental\n"
     ]
    }
   ],
   "source": [
    "cost=[]\n",
    "for i in data['Description']:\n",
    "    j=i.split()\n",
    "    for x in j:\n",
    "        if x in ['bike','Bike','byk','BIKE']:\n",
    "            cost.append(data[data['Description']==i]['Cost'].sum())\n",
    "print('we have spent of amount',np.unique(np.array(cost)).sum(),'Rs  on bike rental')"
   ]
  },
  {
   "cell_type": "markdown",
   "metadata": {},
   "source": [
    "##### we would have  brought our own second hand bike "
   ]
  },
  {
   "cell_type": "markdown",
   "metadata": {},
   "source": [
    "#    "
   ]
  },
  {
   "cell_type": "markdown",
   "metadata": {},
   "source": [
    "## there are few people in our group who stays in the same house, can I predict which are those who stays in a single home by using above data...?"
   ]
  },
  {
   "cell_type": "markdown",
   "metadata": {},
   "source": [
    "### its simple we need to just collect descriptions which are mostly related to households "
   ]
  },
  {
   "cell_type": "code",
   "execution_count": 251,
   "metadata": {},
   "outputs": [
    {
     "data": {
      "text/plain": [
       "<matplotlib.axes._subplots.AxesSubplot at 0x1d360f65358>"
      ]
     },
     "execution_count": 251,
     "metadata": {},
     "output_type": "execute_result"
    },
    {
     "data": {
      "image/png": "[encoded data removed]",
      "text/plain": [
       "<Figure size 432x288 with 1 Axes>"
      ]
     },
     "metadata": {
      "needs_background": "light"
     },
     "output_type": "display_data"
    }
   ],
   "source": [
    "households=['Water can','Bulb','Saturday milk','Oil','Salt','Odonil','Electricity bill','Banana and onion','Water','Tomato','Onion tomato','Rava','New paper n watercan','Onion and chilly','Water Can','Acid+odonil+naphthalene','Electricity bill ','Dispenser+awalakki','Good life','Potato','Maggi+oil','Water Can+sugar','Gas','Water bill','Water+veggies','Current bill','Golgappa+cucumber','Milk+sugar','Freshner','Washingpowder']\n",
    "index=[]\n",
    "for i in range(len(data)):\n",
    "    x=data['Description'].iloc[i].split()\n",
    "    for word in x:\n",
    "        if word in households:\n",
    "            index.append(i)\n",
    "        else:\n",
    "            continue\n",
    "            \n",
    "households_df=data.iloc[index]\n",
    "list_=[]\n",
    "for i in range(len(households_df)):\n",
    "    for j in persons:\n",
    "        if households_df.iloc[i][j]!=0:\n",
    "            list_.append(j)\n",
    "\n",
    "df1=pd.DataFrame(list_)\n",
    "df1.columns=['names']\n",
    "df3=pd.DataFrame(df1.groupby('names')['names'].count())\n",
    "df3.columns=['count']\n",
    "df3.sort_values('count',ascending=False,inplace=True)\n",
    "df3.plot(kind='bar')"
   ]
  },
  {
   "cell_type": "markdown",
   "metadata": {},
   "source": [
    "### According to data\n",
    "### Shwetajain,Keerti,Pallavi and AmbikaPatil mostly stayed in single home"
   ]
  },
  {
   "cell_type": "markdown",
   "metadata": {},
   "source": [
    "### Actual:\n",
    "### Shwetajain,Keerti,Pallavi  are the main people who stayed in the home but Ambika and nikita used to vist their home several times even though they stayed in the hostels "
   ]
  },
  {
   "cell_type": "code",
   "execution_count": null,
   "metadata": {},
   "outputs": [],
   "source": []
  }
 ],
 "metadata": {
  "kernelspec": {
   "display_name": "Python 3",
   "language": "python",
   "name": "python3"
  },
  "language_info": {
   "codemirror_mode": {
    "name": "ipython",
    "version": 3
   },
   "file_extension": ".py",
   "mimetype": "text/x-python",
   "name": "python",
   "nbconvert_exporter": "python",
   "pygments_lexer": "ipython3",
   "version": "3.7.3"
  }
 },
 "nbformat": 4,
 "nbformat_minor": 2
}
